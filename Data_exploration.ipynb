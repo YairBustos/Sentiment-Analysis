{
 "cells": [
  {
   "cell_type": "markdown",
   "metadata": {},
   "source": [
    "# Data Exploration\n",
    "## Tweets dataset before cleaning\n",
    "\n",
    "First step is to import the necessary libraries, create the dataframe and change the datatype of the datetime columns"
   ]
  },
  {
   "cell_type": "code",
   "execution_count": 68,
   "metadata": {
    "tags": []
   },
   "outputs": [
    {
     "name": "stdout",
     "output_type": "stream",
     "text": [
      "                      id       date  \\\n",
      "0 1310000000000000000.00 2020-02-10   \n",
      "1 1310000000000000000.00 2020-02-10   \n",
      "2 1310000000000000000.00 2020-02-10   \n",
      "\n",
      "                                                                                                                                                                                                                                                                                                           text  \\\n",
      "0                                                                  Nearly one month before the US election president Trump is transferred by helicopter to hospital where he is expected to work for the “next few days” after contracting #COVID19 and developing a fever. #potuscovid https://t.co/bpGmPSsKYq   \n",
      "1  @notthebeendall @notthebeendall  This fundraiser was actually \\nat #Bedminster, NJ  ... \\nI am amazed that they went thru with this event,\\nknowing that #Trump had active #Covid at the time. \\nI don't know if the guests signed waivers?\\nWHY would #DT deliberately expose these older men to #Covid19 ?   \n",
      "2                      President Elect Joe Biden says he's praying for President Trump's recovery from COVID-19 , Trump having Fatigue symptoms and shortness of breath , the Covid19 virus has fatally injured more than 205 , 000 Americans in less than 9 months. Anybody can get it https://t.co/w30sfrd0lg   \n",
      "\n",
      "              user         location  retweet_count               source  \\\n",
      "0         primeNPU              NaN              0      Twitter Web App   \n",
      "1           MaryC3  New Jersey, USA              1      Twitter Web App   \n",
      "2  StayWok85286785              NaN              0  Twitter for Android   \n",
      "\n",
      "   user_friends_count  user_followers_count user_created_at  \\\n",
      "0                  25                    48      2011-10-05   \n",
      "1                2106                   856      2008-01-11   \n",
      "2                  70                    35      2020-03-22   \n",
      "\n",
      "   user_listed_count  user_favourites_count  \n",
      "0                  6                     17  \n",
      "1                 21                  73272  \n",
      "2                  0                    330  \n",
      "                          id       date  \\\n",
      "52197 1320000000000000000.00 2020-10-19   \n",
      "52198 1320000000000000000.00 2020-10-19   \n",
      "52199 1320000000000000000.00 2020-10-19   \n",
      "\n",
      "                                                                                                                                                                                                                                                                                                     text  \\\n",
      "52197                                                                                                                   What an idiot! tRUmp, not Doctor Fauci. Nasty, clueless 🍊🤡 Only one in 🇺🇸 holding super spreader events is IMPOTUS and he’s coming here 🤦🏼‍♀️ #COVID19 🦠💀 https://t.co/0Hi8s7uRG0   \n",
      "52198      @ChuckGrassley @realDonaldTrump If Trump wins, more people will die from #Covid19, the division in America will grow, people will go hungry, evictions will increase; millions will have no health care; more wildfires, floods, children in cages, alienation of Allies (If we have any left)   \n",
      "52199  On Friday, CO, ID, IN, MN, NM, NC, ND, WV, WI &amp; WY all reported record new #COVID19 cases.\\n\\nBut Trump says CNN are “dumb bastards” for reporting it?\\n\\nHe just survived COVID w/the best treatment avail.\\n\\n220,000 weren’t as lucky. #VoteLikeYourLifeDependsOnIt https://t.co/N778xaD6s1   \n",
      "\n",
      "               user      location  retweet_count              source  \\\n",
      "52197    strong_sue   Gilbert, AZ              1    Twitter for iPad   \n",
      "52198  sandrajfrank  Florida, USA              0     Twitter Web App   \n",
      "52199  deanofdublin    Dublin, CA            289  Twitter for iPhone   \n",
      "\n",
      "       user_friends_count  user_followers_count user_created_at  \\\n",
      "52197                2656                  1459      2012-09-03   \n",
      "52198                3076                  1453      2017-10-15   \n",
      "52199                8330                  9105      2014-01-21   \n",
      "\n",
      "       user_listed_count  user_favourites_count  \n",
      "52197                 25                  41991  \n",
      "52198                  3                  13291  \n",
      "52199                 24                  38067  \n"
     ]
    }
   ],
   "source": [
    "import pandas as pd\n",
    "import matplotlib.pyplot as plt\n",
    "pd.set_option('display.max_rows', None)\n",
    "pd.set_option('display.max_columns', None)\n",
    "pd.set_option('display.max_colwidth', None)\n",
    "pd.set_option('float_format', '{:.2f}'.format)         #Display comma separator for thousands and 2 decimals\n",
    "\n",
    "file_name = '2900_per_day'\n",
    "#Create DataFrame with raw dataset, in order to analyse all the original scrapped tweets\n",
    "df = pd.read_csv(file_name + '.csv')\n",
    "\n",
    "#Change datatype to datetime\n",
    "df['user_created_at'] = pd.to_datetime(df['user_created_at']).dt.date\n",
    "df['user_created_at'] = pd.to_datetime(df['user_created_at']).dt.normalize()\n",
    "\n",
    "#Change datatype to datetime\n",
    "df['date'] = pd.to_datetime(df['date']).dt.date\n",
    "df['date'] = pd.to_datetime(df['date']).dt.normalize()\n",
    "print(df.head(3))\n",
    "print(df.tail(3))"
   ]
  },
  {
   "cell_type": "markdown",
   "metadata": {},
   "source": [
    "### Dataframe Shape\n",
    "Now we can print the shape of the dataframe, where the total rows are 52200 (2990 tweets during 18 days) and 12 columns"
   ]
  },
  {
   "cell_type": "code",
   "execution_count": 62,
   "metadata": {},
   "outputs": [
    {
     "name": "stdout",
     "output_type": "stream",
     "text": [
      "(52200, 12)\n"
     ]
    }
   ],
   "source": [
    "print(df.shape)"
   ]
  },
  {
   "cell_type": "markdown",
   "metadata": {},
   "source": [
    "### Dataframe Info\n",
    "In the dataframe info it can be seen that only the 'location' column has Null rows.\n",
    "There are also two datetime columns which were previously converted into datetime64."
   ]
  },
  {
   "cell_type": "code",
   "execution_count": 63,
   "metadata": {},
   "outputs": [
    {
     "name": "stdout",
     "output_type": "stream",
     "text": [
      "<class 'pandas.core.frame.DataFrame'>\n",
      "RangeIndex: 52200 entries, 0 to 52199\n",
      "Data columns (total 12 columns):\n",
      " #   Column                 Non-Null Count  Dtype  \n",
      "---  ------                 --------------  -----  \n",
      " 0   id                     52200 non-null  float64\n",
      " 1   date                   52200 non-null  object \n",
      " 2   text                   52200 non-null  object \n",
      " 3   user                   52200 non-null  object \n",
      " 4   location               36617 non-null  object \n",
      " 5   retweet_count          52200 non-null  int64  \n",
      " 6   source                 52184 non-null  object \n",
      " 7   user_friends_count     52200 non-null  int64  \n",
      " 8   user_followers_count   52200 non-null  int64  \n",
      " 9   user_created_at        52200 non-null  object \n",
      " 10  user_listed_count      52200 non-null  int64  \n",
      " 11  user_favourites_count  52200 non-null  int64  \n",
      "dtypes: float64(1), int64(5), object(6)\n",
      "memory usage: 4.8+ MB\n",
      "None\n"
     ]
    }
   ],
   "source": [
    "print(df.info())"
   ]
  },
  {
   "cell_type": "markdown",
   "metadata": {},
   "source": [
    "### Date Column Description\n",
    "Getting the 'date' column description and its quartiles (which does not help here since the data is equaly distributed with 2900 tweets per day during 19 days).\n",
    "First Tweet was posted on 02/10/2020.\n",
    "Last tweet was posted on 19/10/2020.\n"
   ]
  },
  {
   "cell_type": "code",
   "execution_count": 67,
   "metadata": {},
   "outputs": [
    {
     "name": "stdout",
     "output_type": "stream",
     "text": [
      "Date Column Description\n",
      "count                  52200\n",
      "mean     2020-10-10 12:00:00\n",
      "min      2020-10-02 00:00:00\n",
      "25%      2020-10-06 00:00:00\n",
      "50%      2020-10-10 12:00:00\n",
      "75%      2020-10-15 00:00:00\n",
      "max      2020-10-19 00:00:00\n",
      "Name: date, dtype: object\n",
      "\n",
      "\n"
     ]
    }
   ],
   "source": [
    "#Get Time Frame of Data Set\n",
    "print(\"Date Column Description\")\n",
    "print(df['date'].describe(datetime_is_numeric=True))\n",
    "print(\"\\n\")"
   ]
  },
  {
   "cell_type": "markdown",
   "metadata": {},
   "source": [
    "### User Column Description\n",
    "Certain usernames were repeated many times in the dataframe which made me curious about them, after all, 900 posts related to trump and covid in 19 days is quite suspicious. After checking the first user profile on Twitter, I realized it is a news profile, which is likely to use bots."
   ]
  },
  {
   "cell_type": "code",
   "execution_count": 70,
   "metadata": {},
   "outputs": [
    {
     "name": "stdout",
     "output_type": "stream",
     "text": [
      "count               52200\n",
      "unique              23961\n",
      "top       CupofJoeintheD2\n",
      "freq                  900\n",
      "Name: user, dtype: object \n",
      "\n",
      "User Value Counts Top 10\n",
      "CupofJoeintheD2    900\n",
      "DuRoRoDu           542\n",
      "HenryAl07332400    428\n",
      "ppl4justice        422\n",
      "Hotpage_News       368\n",
      "GlobalPandemics    325\n",
      "alfysantillana     322\n",
      "BigdogFnh          322\n",
      "palazzo214         313\n",
      "DenmarkRepent      190\n",
      "Name: user, dtype: int64\n"
     ]
    }
   ],
   "source": [
    "#Get Description and Unique Values from User Column\n",
    "print(df['user'].describe(), \"\\n\")\n",
    "print(\"User Value Counts Top 10\")\n",
    "print(df['user'].value_counts().head(10))"
   ]
  },
  {
   "cell_type": "markdown",
   "metadata": {},
   "source": [
    "### Location description\n",
    "The location column is the only column with NULL values, where the U.S. is the most frequent place, followed by \"In the \"D\"\", which belongs to the before mentioned news account. When having a look at the first 10 locations, 8 of them belong to the U.S. territory. In total, the first 10 locations represent the 18.4% of the locations column."
   ]
  },
  {
   "cell_type": "code",
   "execution_count": 71,
   "metadata": {},
   "outputs": [
    {
     "name": "stdout",
     "output_type": "stream",
     "text": [
      "count             36617\n",
      "unique             7979\n",
      "top       United States\n",
      "freq               2101\n",
      "Name: location, dtype: object \n",
      "\n",
      "United States              2101\n",
      "In the \"D\"                  900\n",
      "USA                         745\n",
      "United States of Corona     542\n",
      "Florida, USA                541\n",
      "Washington, DC              509\n",
      "New York, NY                502\n",
      "California, USA             474\n",
      "WORLDWIDE                   406\n",
      "Miami, FL                   382\n",
      "Name: location, dtype: int64\n"
     ]
    }
   ],
   "source": [
    "#Location Description\n",
    "print(df['location'].describe(), \"\\n\")\n",
    "print(df['location'].value_counts().head(10))\n"
   ]
  },
  {
   "cell_type": "code",
   "execution_count": 72,
   "metadata": {},
   "outputs": [
    {
     "data": {
      "image/png": "[encoded data removed]",
      "text/plain": [
       "<Figure size 720x432 with 1 Axes>"
      ]
     },
     "metadata": {},
     "output_type": "display_data"
    }
   ],
   "source": [
    "plt.rcParams['xtick.labelsize']=12\n",
    "plt.rcParams['ytick.labelsize']=15\n",
    "locations = df['location'].value_counts()\n",
    "locations2 = locations.iloc[:9]\n",
    "locations2.loc['Other'] = locations.iloc[9:].sum()\n",
    "\n",
    "pie, ax = plt.subplots(figsize=(10, 6), subplot_kw=dict(aspect=\"equal\"))\n",
    "plt.pie(locations2.values, labels=locations2.index, autopct=\"%1.1f%%\", \n",
    "        explode=[0.03]*10, pctdistance=0.8, startangle=130)\n",
    "plt.title(\"User Locations\", fontsize=25)\n",
    "\n",
    "plt.show()"
   ]
  },
  {
   "cell_type": "markdown",
   "metadata": {},
   "source": [
    "### Retweet Count Descriptive Statistics\n",
    "The tweets in the dataset were, in average, retweeted 5.66 times each. The most retweeted tweet has a retweet count of 15024 and it belongs to the following tweet: \n",
    "\"Your president QUICKLY wished Trump recovery from COVID19, yet 10 Nigerians have been killed in the last 2 days while demanding that #SARSMUSTEND and NOT A WORD FROM THE PRESIDENCY.\n",
    "\n",
    "They don't rate you, they think you're just a Twitter warrior.\" on 11/10/2020 by user \"aproko_doctor\""
   ]
  },
  {
   "cell_type": "code",
   "execution_count": 74,
   "metadata": {},
   "outputs": [
    {
     "name": "stdout",
     "output_type": "stream",
     "text": [
      "count   52200.00\n",
      "mean        5.66\n",
      "std       129.55\n",
      "min         0.00\n",
      "25%         0.00\n",
      "50%         0.00\n",
      "75%         0.00\n",
      "max     15024.00\n",
      "Name: retweet_count, dtype: float64\n"
     ]
    }
   ],
   "source": [
    "print(df['retweet_count'].describe())"
   ]
  },
  {
   "cell_type": "markdown",
   "metadata": {},
   "source": [
    "### Source column Description\n",
    "The most used source for posting was the \"Twitter Web App\" with a frequency of 20250 in the dataset. However, there are 183 different sources which include \"Twitter for iPhone\" and \"Twitter for Android\" among others."
   ]
  },
  {
   "cell_type": "code",
   "execution_count": 76,
   "metadata": {},
   "outputs": [
    {
     "name": "stdout",
     "output_type": "stream",
     "text": [
      "count               52184\n",
      "unique                183\n",
      "top       Twitter Web App\n",
      "freq                20250\n",
      "Name: source, dtype: object\n"
     ]
    }
   ],
   "source": [
    "print(df['source'].describe())"
   ]
  },
  {
   "cell_type": "code",
   "execution_count": 77,
   "metadata": {},
   "outputs": [
    {
     "data": {
      "image/png": "[encoded data removed]",
      "text/plain": [
       "<Figure size 720x432 with 1 Axes>"
      ]
     },
     "metadata": {},
     "output_type": "display_data"
    }
   ],
   "source": [
    "sources = df['source'].value_counts()\n",
    "sources2 = sources.iloc[:4]\n",
    "sources2.loc['Other'] = sources.iloc[4:].sum()\n",
    "\n",
    "plt.rcParams['xtick.labelsize']=16\n",
    "plt.rcParams['ytick.labelsize']=15\n",
    "\n",
    "pie, ax = plt.subplots(figsize=[10,6])\n",
    "plt.pie(sources2.values, labels=sources2.index, autopct=\"%.1f%%\", \n",
    "        explode=[0.03]*5, pctdistance=0.8)\n",
    "plt.title(\"Tweet Sources\", fontsize=25)\n",
    "plt.show()"
   ]
  },
  {
   "cell_type": "markdown",
   "metadata": {},
   "source": [
    "### User Friends Count Description"
   ]
  },
  {
   "cell_type": "code",
   "execution_count": 78,
   "metadata": {},
   "outputs": [
    {
     "name": "stdout",
     "output_type": "stream",
     "text": [
      "User Friends Count Descriptive Statistics\n",
      "count    52200.00\n",
      "mean      3258.43\n",
      "std      12303.00\n",
      "min          0.00\n",
      "25%        204.00\n",
      "50%        878.00\n",
      "75%       3065.25\n",
      "max     621414.00\n",
      "Name: user_friends_count, dtype: float64\n"
     ]
    }
   ],
   "source": [
    "print(df['user_friends_count'].describe())"
   ]
  },
  {
   "cell_type": "markdown",
   "metadata": {},
   "source": [
    "### User Followers Count"
   ]
  },
  {
   "cell_type": "code",
   "execution_count": 79,
   "metadata": {},
   "outputs": [
    {
     "name": "stdout",
     "output_type": "stream",
     "text": [
      "User Followers Count Descriptive Statistics\n",
      "count      52200.00\n",
      "mean       27322.56\n",
      "std       380713.87\n",
      "min            0.00\n",
      "25%          111.00\n",
      "50%          706.00\n",
      "75%         3300.00\n",
      "max     22480462.00\n",
      "Name: user_followers_count, dtype: float64\n"
     ]
    }
   ],
   "source": [
    "#User Followers Count\n",
    "print(\"User Followers Count Descriptive Statistics\")\n",
    "print(df['user_followers_count'].describe())\n"
   ]
  },
  {
   "cell_type": "markdown",
   "metadata": {},
   "source": [
    "### User Created At Description"
   ]
  },
  {
   "cell_type": "code",
   "execution_count": 80,
   "metadata": {},
   "outputs": [
    {
     "name": "stdout",
     "output_type": "stream",
     "text": [
      "User Created At Column Description\n",
      "count                            52200\n",
      "mean     2014-05-27 02:11:08.689655296\n",
      "min                2006-03-12 00:00:00\n",
      "25%                2010-07-13 00:00:00\n",
      "50%                2013-10-23 00:00:00\n",
      "75%                2018-06-27 00:00:00\n",
      "max                2020-12-10 00:00:00\n",
      "Name: user_created_at, dtype: object \n",
      "\n",
      "User Created at Descriptive Statistics\n",
      "Oldest User on Data Set: 2006-03-12 00:00:00\n",
      "Newest User on Data Set: 2020-12-10 00:00:00\n",
      "Mean:                    2014-05-27 02:11:08.689655296\n"
     ]
    }
   ],
   "source": [
    "print(\"User Created At Column Description\")\n",
    "print(df['user_created_at'].describe(datetime_is_numeric=True), \"\\n\")\n",
    "\n",
    "print(\"User Created at Descriptive Statistics\")\n",
    "print(\"Oldest User on Data Set: \" + str(df['user_created_at'].min()))\n",
    "print(\"Newest User on Data Set: \" + str(df['user_created_at'].max()))\n",
    "print(\"Mean:                    \" + str(df['user_created_at'].mean()))"
   ]
  },
  {
   "cell_type": "markdown",
   "metadata": {},
   "source": [
    "### User Listed Count Column Description"
   ]
  },
  {
   "cell_type": "code",
   "execution_count": 81,
   "metadata": {},
   "outputs": [
    {
     "name": "stdout",
     "output_type": "stream",
     "text": [
      "User Listed Count Descriptive Statistics\n",
      "count    52200.00\n",
      "mean       174.65\n",
      "std       1360.74\n",
      "min          0.00\n",
      "25%          0.00\n",
      "50%          5.00\n",
      "75%         43.00\n",
      "max     122235.00\n",
      "Name: user_listed_count, dtype: float64\n"
     ]
    }
   ],
   "source": [
    "#User Listed Count Column Description\n",
    "print(\"User Listed Count Descriptive Statistics\")\n",
    "print(df['user_listed_count'].describe())"
   ]
  },
  {
   "cell_type": "markdown",
   "metadata": {},
   "source": [
    "### User Favourites Count"
   ]
  },
  {
   "cell_type": "code",
   "execution_count": 82,
   "metadata": {},
   "outputs": [
    {
     "name": "stdout",
     "output_type": "stream",
     "text": [
      "User Favourites Count Descriptive Statistics\n",
      "count     52200.00\n",
      "mean      30567.92\n",
      "std       66469.42\n",
      "min           0.00\n",
      "25%        1163.00\n",
      "50%        7497.50\n",
      "75%       28770.00\n",
      "max     1400095.00\n",
      "Name: user_favourites_count, dtype: float64\n"
     ]
    }
   ],
   "source": [
    "#User Favourites Count\n",
    "print(\"User Favourites Count Descriptive Statistics\")\n",
    "print(df['user_favourites_count'].describe())"
   ]
  }
 ],
 "metadata": {
  "kernelspec": {
   "display_name": "Python 3",
   "language": "python",
   "name": "python3"
  },
  "language_info": {
   "codemirror_mode": {
    "name": "ipython",
    "version": 3
   },
   "file_extension": ".py",
   "mimetype": "text/x-python",
   "name": "python",
   "nbconvert_exporter": "python",
   "pygments_lexer": "ipython3",
   "version": "3.8.5"
  }
 },
 "nbformat": 4,
 "nbformat_minor": 4
}
