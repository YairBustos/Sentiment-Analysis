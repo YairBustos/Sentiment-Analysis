{
 "cells": [
  {
   "cell_type": "code",
   "execution_count": 1,
   "metadata": {},
   "outputs": [],
   "source": [
    "import pandas as pd\n",
    "import matplotlib.pyplot as plt\n",
    "pd.set_option('display.max_rows', None)\n",
    "pd.set_option('display.max_columns', None)\n",
    "pd.set_option('display.max_colwidth', None)\n",
    "pd.set_option('float_format', '{:.2f}'.format)         #Display comma separator for thousands and 2 decimals\n",
    "file_name = '2900_per_day'\n",
    "file_extension = 'csv'\n",
    "#Create DataFrame with tweets and Sentiment Scores from TextBlob\n",
    "df = pd.read_csv(r'C:\\\\Users\\\\Yairb\\\\Desktop\\\\PythonPP\\\\Datasets\\\\' + file_name + '.csv')\n",
    "df['user_created_at'] = pd.to_datetime(df['user_created_at'])               #Change datatype to datetime\n",
    "df['date'] = pd.to_datetime(df['date'])               #Change datatype to datetime\n",
    "df = df.drop(columns=['Unnamed: 0', 'Unnamed: 0.1'])\n",
    "df = df.drop(columns=['index'])"
   ]
  },
  {
   "cell_type": "code",
   "execution_count": 6,
   "metadata": {},
   "outputs": [
    {
     "name": "stdout",
     "output_type": "stream",
     "text": [
      "                    id                date  \\\n",
      "0  1312158696990883840 2020-10-02 22:33:06   \n",
      "1  1312173490674438144 2020-10-02 23:31:53   \n",
      "2  1312156472583680000 2020-10-02 22:24:16   \n",
      "3  1312156337069989891 2020-10-02 22:23:44   \n",
      "4  1312179509269917697 2020-10-02 23:55:48   \n",
      "\n",
      "                                                                                                                                                                                                                                                                                                                                text  \\\n",
      "0                                                                                       Nearly one month before the US election president Trump is transferred by helicopter to hospital where he is expected to work for the “next few days” after contracting #COVID19 and developing a fever. #potuscovid https://t.co/bpGmPSsKYq   \n",
      "1                       @notthebeendall @notthebeendall  This fundraiser was actually \\nat #Bedminster, NJ  ... \\nI am amazed that they went thru with this event,\\nknowing that #Trump had active #Covid at the time. \\nI don't know if the guests signed waivers?\\nWHY would #DT deliberately expose these older men to #Covid19 ?   \n",
      "2                                           President Elect Joe Biden says he's praying for President Trump's recovery from COVID-19 , Trump having Fatigue symptoms and shortness of breath , the Covid19 virus has fatally injured more than 205 , 000 Americans in less than 9 months. Anybody can get it https://t.co/w30sfrd0lg   \n",
      "3  @DeAnna4Congress #CovidCaughtTrump\\n\\nDid Melania catch him, too?\\n\\nDoes this statement by trump sound suspicious as hell?\\n\\nHope &amp; trump diagnosed with COVID19\\n\\nKnows he got it from kissing Hope\\n\\nLies &amp; blames the military &amp; cops\\n\\nKissing her\\n\\nWhy would he blame KISSING?\\n\\ntrump cheats once again   \n",
      "4                                                                                                                                                                                                When did the virus breach the #Trump bubble? Inside a big Trump mystery https://t.co/k42m4Bf1Qk via @politico #coronavirus #COVID19   \n",
      "\n",
      "              user                        location  retweet_count  \\\n",
      "0         primeNPU                             NaN              0   \n",
      "1           MaryC3                 New Jersey, USA              1   \n",
      "2  StayWok85286785                             NaN              0   \n",
      "3    SUZ_E_QUEUE_C  TEXAS: TURNING BLUE FOR BIDEN!              0   \n",
      "4        matisaksk                        Slovakia              0   \n",
      "\n",
      "                source  user_friends_count  user_followers_count  \\\n",
      "0      Twitter Web App                  25                    48   \n",
      "1      Twitter Web App                2106                   856   \n",
      "2  Twitter for Android                  70                    35   \n",
      "3      Twitter Web App                1759                   854   \n",
      "4  Twitter for Android                4258                  4436   \n",
      "\n",
      "      user_created_at  user_listed_count  user_favourites_count  \n",
      "0 2011-05-10 03:14:33                  6                     17  \n",
      "1 2008-11-01 13:56:00                 21                  73272  \n",
      "2 2020-03-22 00:37:40                  0                    330  \n",
      "3 2019-09-23 17:35:07                  1                   7287  \n",
      "4 2010-07-16 15:02:04                311                   1008  \n"
     ]
    }
   ],
   "source": [
    "print(df.head())"
   ]
  },
  {
   "cell_type": "code",
   "execution_count": 3,
   "metadata": {},
   "outputs": [
    {
     "name": "stdout",
     "output_type": "stream",
     "text": [
      "(52200, 12)\n"
     ]
    }
   ],
   "source": [
    "print(df.shape)"
   ]
  },
  {
   "cell_type": "code",
   "execution_count": 4,
   "metadata": {},
   "outputs": [
    {
     "name": "stdout",
     "output_type": "stream",
     "text": [
      "<class 'pandas.core.frame.DataFrame'>\n",
      "RangeIndex: 52200 entries, 0 to 52199\n",
      "Data columns (total 12 columns):\n",
      " #   Column                 Non-Null Count  Dtype         \n",
      "---  ------                 --------------  -----         \n",
      " 0   id                     52200 non-null  int64         \n",
      " 1   date                   52200 non-null  datetime64[ns]\n",
      " 2   text                   52200 non-null  object        \n",
      " 3   user                   52200 non-null  object        \n",
      " 4   location               36617 non-null  object        \n",
      " 5   retweet_count          52200 non-null  int64         \n",
      " 6   source                 52184 non-null  object        \n",
      " 7   user_friends_count     52200 non-null  int64         \n",
      " 8   user_followers_count   52200 non-null  int64         \n",
      " 9   user_created_at        52200 non-null  datetime64[ns]\n",
      " 10  user_listed_count      52200 non-null  int64         \n",
      " 11  user_favourites_count  52200 non-null  int64         \n",
      "dtypes: datetime64[ns](2), int64(6), object(4)\n",
      "memory usage: 4.8+ MB\n",
      "None\n"
     ]
    }
   ],
   "source": [
    "print(df.info())"
   ]
  },
  {
   "cell_type": "code",
   "execution_count": 5,
   "metadata": {},
   "outputs": [
    {
     "name": "stdout",
     "output_type": "stream",
     "text": [
      "Date Column Description\n",
      "count                            52200\n",
      "mean     2020-10-11 06:47:09.906034432\n",
      "min                2020-10-02 22:08:31\n",
      "25%                2020-10-06 21:30:06\n",
      "50%         2020-10-11 05:29:00.500000\n",
      "75%      2020-10-15 13:50:08.499999744\n",
      "max                2020-10-19 23:59:48\n",
      "Name: date, dtype: object\n",
      "\n",
      "\n",
      "Time Frame of Data Set\n",
      "First Tweet posted on: 2020-10-02 22:08:31\n",
      "Last Tweet poster on:  2020-10-19 23:59:48\n",
      "Total Days:            17 days 01:51:17\n"
     ]
    }
   ],
   "source": [
    "#Get Time Frame of Data Set\n",
    "print(\"Date Column Description\")\n",
    "print(df['date'].describe(datetime_is_numeric=True))\n",
    "print(\"\\n\")\n",
    "\n",
    "print(\"Time Frame of Data Set\")\n",
    "print(\"First Tweet posted on:\" + str(df['date'].min()))\n",
    "print(\"Last Tweet poster on: \" + str(df['date'].max()))\n",
    "print(\"Total Days:           \" + str(df['date'].max() - df['date'].min()))\n"
   ]
  },
  {
   "cell_type": "code",
   "execution_count": 6,
   "metadata": {},
   "outputs": [
    {
     "name": "stdout",
     "output_type": "stream",
     "text": [
      "count               52200\n",
      "unique              23961\n",
      "top       CupofJoeintheD2\n",
      "freq                  900\n",
      "Name: user, dtype: object \n",
      "\n",
      "User Value Counts Top 10\n",
      "CupofJoeintheD2    900\n",
      "DuRoRoDu           542\n",
      "HenryAl07332400    428\n",
      "ppl4justice        422\n",
      "Hotpage_News       368\n",
      "GlobalPandemics    325\n",
      "alfysantillana     322\n",
      "BigdogFnh          322\n",
      "palazzo214         313\n",
      "DenmarkRepent      190\n",
      "Name: user, dtype: int64\n"
     ]
    }
   ],
   "source": [
    "#Get Description and Unique Values from User Column\n",
    "print(df['user'].describe(), \"\\n\")\n",
    "print(\"User Value Counts Top 10\")\n",
    "print(df['user'].value_counts().head(10))"
   ]
  },
  {
   "cell_type": "code",
   "execution_count": 20,
   "metadata": {},
   "outputs": [
    {
     "name": "stdout",
     "output_type": "stream",
     "text": [
      "Cu***********D2\n",
      "Du****Du\n",
      "He***********00\n",
      "pp*******ce\n",
      "Ho********ws\n",
      "Gl***********cs\n",
      "Bi*****nh\n",
      "al**********na\n",
      "pa******14\n",
      "De*********nt\n"
     ]
    }
   ],
   "source": [
    "print(\"Cu***********D2\")\n",
    "print(\"Du****Du\")\n",
    "print(\"He***********00\")\n",
    "print(\"pp*******ce\")\n",
    "print(\"Ho********ws\")\n",
    "print(\"Gl***********cs\")\n",
    "print(\"Bi*****nh\")\n",
    "print(\"al**********na\")\n",
    "print(\"pa******14\")\n",
    "print(\"De*********nt\")"
   ]
  },
  {
   "cell_type": "code",
   "execution_count": 2,
   "metadata": {},
   "outputs": [
    {
     "name": "stdout",
     "output_type": "stream",
     "text": [
      "count             36617\n",
      "unique             7979\n",
      "top       United States\n",
      "freq               2101\n",
      "Name: location, dtype: object \n",
      "\n",
      "United States              2101\n",
      "In the \"D\"                  900\n",
      "USA                         745\n",
      "United States of Corona     542\n",
      "Florida, USA                541\n",
      "Washington, DC              509\n",
      "New York, NY                502\n",
      "California, USA             474\n",
      "WORLDWIDE                   406\n",
      "Miami, FL                   382\n",
      "Name: location, dtype: int64\n"
     ]
    }
   ],
   "source": [
    "#Location Description\n",
    "print(df['location'].describe(), \"\\n\")\n",
    "print(df['location'].value_counts().head(10))\n"
   ]
  },
  {
   "cell_type": "code",
   "execution_count": 14,
   "metadata": {},
   "outputs": [
    {
     "data": {
      "image/png": "[encoded data removed]",
      "text/plain": [
       "<Figure size 720x432 with 1 Axes>"
      ]
     },
     "metadata": {},
     "output_type": "display_data"
    }
   ],
   "source": [
    "plt.rcParams['xtick.labelsize']=12\n",
    "plt.rcParams['ytick.labelsize']=15\n",
    "locations = df['location'].value_counts()\n",
    "locations2 = locations.iloc[:9]\n",
    "locations2.loc['Other'] = locations.iloc[9:].sum()\n",
    "\n",
    "pie, ax = plt.subplots(figsize=(10, 6), subplot_kw=dict(aspect=\"equal\"))\n",
    "plt.pie(locations2.values, labels=locations2.index, autopct=\"%1.1f%%\", \n",
    "        explode=[0.03]*10, pctdistance=0.8, startangle=130)\n",
    "plt.title(\"User Locations\", fontsize=25)\n",
    "\n",
    "plt.show()"
   ]
  },
  {
   "cell_type": "code",
   "execution_count": 15,
   "metadata": {},
   "outputs": [
    {
     "name": "stdout",
     "output_type": "stream",
     "text": [
      "Retweet Count Descriptive Statistics\n",
      "count   52200.00\n",
      "mean        5.66\n",
      "std       129.55\n",
      "min         0.00\n",
      "25%         0.00\n",
      "50%         0.00\n",
      "75%         0.00\n",
      "max     15024.00\n",
      "Name: retweet_count, dtype: float64\n"
     ]
    }
   ],
   "source": [
    "#Retweet Count Column Description\n",
    "print(\"Retweet Count Descriptive Statistics\")\n",
    "print(df['retweet_count'].describe())"
   ]
  },
  {
   "cell_type": "code",
   "execution_count": 16,
   "metadata": {},
   "outputs": [
    {
     "name": "stdout",
     "output_type": "stream",
     "text": [
      "Source Column Information\n",
      "Diferent Values\n",
      "count               52184\n",
      "unique                183\n",
      "top       Twitter Web App\n",
      "freq                20250\n",
      "Name: source, dtype: object\n"
     ]
    }
   ],
   "source": [
    "#Source column Description\n",
    "print(\"Source Column Information\")\n",
    "print(\"Diferent Values\")\n",
    "print(df['source'].describe())"
   ]
  },
  {
   "cell_type": "code",
   "execution_count": 22,
   "metadata": {},
   "outputs": [
    {
     "data": {
      "image/png": "[encoded data removed]",
      "text/plain": [
       "<Figure size 720x432 with 1 Axes>"
      ]
     },
     "metadata": {},
     "output_type": "display_data"
    }
   ],
   "source": [
    "sources = df['source'].value_counts()\n",
    "sources2 = sources.iloc[:4]\n",
    "sources2.loc['Other'] = sources.iloc[4:].sum()\n",
    "\n",
    "plt.rcParams['xtick.labelsize']=16\n",
    "plt.rcParams['ytick.labelsize']=15\n",
    "\n",
    "pie, ax = plt.subplots(figsize=[10,6])\n",
    "plt.pie(sources2.values, labels=sources2.index, autopct=\"%.1f%%\", \n",
    "        explode=[0.03]*5, pctdistance=0.8)\n",
    "plt.title(\"Tweet Sources\", fontsize=25)\n",
    "plt.show()"
   ]
  },
  {
   "cell_type": "code",
   "execution_count": 23,
   "metadata": {},
   "outputs": [
    {
     "name": "stdout",
     "output_type": "stream",
     "text": [
      "User Friends Count Descriptive Statistics\n",
      "count    52200.00\n",
      "mean      3258.43\n",
      "std      12303.00\n",
      "min          0.00\n",
      "25%        204.00\n",
      "50%        878.00\n",
      "75%       3065.25\n",
      "max     621414.00\n",
      "Name: user_friends_count, dtype: float64\n"
     ]
    }
   ],
   "source": [
    "#User Friends Count Description\n",
    "print(\"User Friends Count Descriptive Statistics\")\n",
    "print(df['user_friends_count'].describe())"
   ]
  },
  {
   "cell_type": "code",
   "execution_count": 24,
   "metadata": {},
   "outputs": [
    {
     "name": "stdout",
     "output_type": "stream",
     "text": [
      "User Followers Count Descriptive Statistics\n",
      "count      52200.00\n",
      "mean       27322.56\n",
      "std       380713.87\n",
      "min            0.00\n",
      "25%          111.00\n",
      "50%          706.00\n",
      "75%         3300.00\n",
      "max     22480462.00\n",
      "Name: user_followers_count, dtype: float64\n"
     ]
    }
   ],
   "source": [
    "#User Followers Count\n",
    "print(\"User Followers Count Descriptive Statistics\")\n",
    "print(df['user_followers_count'].describe())\n"
   ]
  },
  {
   "cell_type": "code",
   "execution_count": 26,
   "metadata": {},
   "outputs": [
    {
     "name": "stdout",
     "output_type": "stream",
     "text": [
      "User Created At Column Description\n",
      "count                            52200\n",
      "mean     2014-05-22 15:46:55.930740992\n",
      "min                2006-07-17 01:21:51\n",
      "25%                2010-07-10 14:26:17\n",
      "50%                2013-10-13 18:24:56\n",
      "75%                2018-06-27 12:42:50\n",
      "max                2020-10-19 17:23:05\n",
      "Name: user_created_at, dtype: object \n",
      "\n",
      "User Created at Descriptive Statistics\n",
      "Oldest User on Data Set: 2006-07-17 01:21:51\n",
      "Newest User on Data Set: 2020-10-19 17:23:05\n",
      "Mean:                    2014-05-22 15:46:55.930740992\n"
     ]
    }
   ],
   "source": [
    "#User Created At Description\n",
    "print(\"User Created At Column Description\")\n",
    "print(df['user_created_at'].describe(datetime_is_numeric=True), \"\\n\")\n",
    "\n",
    "print(\"User Created at Descriptive Statistics\")\n",
    "print(\"Oldest User on Data Set: \" + str(df['user_created_at'].min()))\n",
    "print(\"Newest User on Data Set: \" + str(df['user_created_at'].max()))\n",
    "print(\"Mean:                    \" + str(df['user_created_at'].mean()))"
   ]
  },
  {
   "cell_type": "code",
   "execution_count": 27,
   "metadata": {},
   "outputs": [
    {
     "name": "stdout",
     "output_type": "stream",
     "text": [
      "User Listed Count Descriptive Statistics\n",
      "count    52200.00\n",
      "mean       174.65\n",
      "std       1360.74\n",
      "min          0.00\n",
      "25%          0.00\n",
      "50%          5.00\n",
      "75%         43.00\n",
      "max     122235.00\n",
      "Name: user_listed_count, dtype: float64\n"
     ]
    }
   ],
   "source": [
    "#User Listed Count Column Description\n",
    "print(\"User Listed Count Descriptive Statistics\")\n",
    "print(df['user_listed_count'].describe())"
   ]
  },
  {
   "cell_type": "code",
   "execution_count": 28,
   "metadata": {},
   "outputs": [
    {
     "name": "stdout",
     "output_type": "stream",
     "text": [
      "User Favourites Count Descriptive Statistics\n",
      "count     52200.00\n",
      "mean      30567.92\n",
      "std       66469.42\n",
      "min           0.00\n",
      "25%        1163.00\n",
      "50%        7497.50\n",
      "75%       28770.00\n",
      "max     1400095.00\n",
      "Name: user_favourites_count, dtype: float64\n"
     ]
    }
   ],
   "source": [
    "#User Favourites Count\n",
    "print(\"User Favourites Count Descriptive Statistics\")\n",
    "print(df['user_favourites_count'].describe())"
   ]
  }
 ],
 "metadata": {
  "kernelspec": {
   "display_name": "Python 3",
   "language": "python",
   "name": "python3"
  },
  "language_info": {
   "codemirror_mode": {
    "name": "ipython",
    "version": 3
   },
   "file_extension": ".py",
   "mimetype": "text/x-python",
   "name": "python",
   "nbconvert_exporter": "python",
   "pygments_lexer": "ipython3",
   "version": "3.8.5"
  }
 },
 "nbformat": 4,
 "nbformat_minor": 4
}
